{
 "cells": [
  {
   "cell_type": "code",
   "execution_count": 1,
   "id": "9fbe0bda-9290-476f-9c64-80d72e3426a6",
   "metadata": {},
   "outputs": [],
   "source": [
    "import pandas as pd \n",
    "import numpy as np\n",
    "import matplotlib.pyplot as plt\n",
    "import seaborn as sns"
   ]
  },
  {
   "cell_type": "code",
   "execution_count": 2,
   "id": "692d4bf2-e8df-48bf-a86b-211462b5b9b4",
   "metadata": {},
   "outputs": [
    {
     "name": "stdout",
     "output_type": "stream",
     "text": [
      "  Product Region  Effectiveness  Side_Effects  Marketing_Spend  Trial_Period\n",
      "0  Drug A  North             85             3            50000            12\n",
      "1  Drug B  South             78             4            45000            18\n",
      "2  Drug C   East             90             2            60000            24\n",
      "3  Drug A   West             82             3            55000            12\n",
      "4  Drug B  North             75             5            47000            18\n",
      "Product            0\n",
      "Region             0\n",
      "Effectiveness      0\n",
      "Side_Effects       0\n",
      "Marketing_Spend    0\n",
      "Trial_Period       0\n",
      "dtype: int64\n"
     ]
    }
   ],
   "source": [
    "import pandas as pd\n",
    "\n",
    "# Load the dataset\n",
    "data = pd.read_csv(\"drug_data.csv\")\n",
    "\n",
    "# Inspect the first few rows\n",
    "print(data.head())\n",
    "\n",
    "# Check for missing values\n",
    "print(data.isnull().sum())\n",
    "\n",
    "# Optionally, handle missing values by dropping or filling\n",
    "data = data.dropna()  # or data.fillna(value) depending on the scenario"
   ]
  },
  {
   "cell_type": "code",
   "execution_count": 3,
   "id": "f9523ff6-06bc-4638-8c4a-6a0f630883fc",
   "metadata": {},
   "outputs": [
    {
     "data": {
      "text/plain": [
       "Product            0\n",
       "Region             0\n",
       "Effectiveness      0\n",
       "Side_Effects       0\n",
       "Marketing_Spend    0\n",
       "Trial_Period       0\n",
       "dtype: int64"
      ]
     },
     "execution_count": 3,
     "metadata": {},
     "output_type": "execute_result"
    }
   ],
   "source": [
    "data.isnull().sum()"
   ]
  },
  {
   "cell_type": "code",
   "execution_count": 4,
   "id": "fcf15258-d7a3-4410-8a1c-acdf8919cdd7",
   "metadata": {},
   "outputs": [],
   "source": [
    "data['Effectiveness'] = pd.to_numeric(data['Effectiveness'], errors='coerce')\n",
    "data['Side_Effects'] = pd.to_numeric(data['Side_Effects'], errors='coerce')\n",
    "data['Marketing_Spend'] = pd.to_numeric(data['Marketing_Spend'], errors='coerce')\n",
    "data['Trial_Period'] = data['Trial_Period'].astype(int)"
   ]
  },
  {
   "cell_type": "code",
   "execution_count": null,
   "id": "e98e7164-e5b3-4cbf-b4c4-d570ec4dec90",
   "metadata": {},
   "outputs": [],
   "source": []
  }
 ],
 "metadata": {
  "kernelspec": {
   "display_name": "Python 3 (ipykernel)",
   "language": "python",
   "name": "python3"
  },
  "language_info": {
   "codemirror_mode": {
    "name": "ipython",
    "version": 3
   },
   "file_extension": ".py",
   "mimetype": "text/x-python",
   "name": "python",
   "nbconvert_exporter": "python",
   "pygments_lexer": "ipython3",
   "version": "3.12.7"
  }
 },
 "nbformat": 4,
 "nbformat_minor": 5
}
